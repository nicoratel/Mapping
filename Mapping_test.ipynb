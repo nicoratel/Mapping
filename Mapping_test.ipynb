{
 "cells": [
  {
   "cell_type": "code",
   "execution_count": 1,
   "metadata": {},
   "outputs": [],
   "source": [
    "%matplotlib widget\n",
    "from Mapping import Mapping\n",
    "\n"
   ]
  },
  {
   "cell_type": "code",
   "execution_count": null,
   "metadata": {},
   "outputs": [],
   "source": [
    "path='/home-local/ratel-ra/Documents/SAXS_data/SAXS_ESRF/HC-5495/JNC21_WAXSdata/'\n",
    "file=path+'CobaltNanoRod_waxs_00018_raw.h5'\n",
    "cif='/home-local/ratel-ra/Documents/CIF_database/Co_P63mmc.cif'\n",
    "reflections=[[1,0,0],[0,0,2],[1,0,1]]\n",
    "map=Mapping(file,cif,reflections,binning=3,threshold=0.0001)\n"
   ]
  },
  {
   "cell_type": "code",
   "execution_count": 3,
   "metadata": {},
   "outputs": [],
   "source": [
    "#map.plotcomponents()\n",
    "#map.plot2D()"
   ]
  },
  {
   "cell_type": "code",
   "execution_count": 4,
   "metadata": {},
   "outputs": [],
   "source": [
    "#map.plot_azim_profiles(plotphi=True)"
   ]
  },
  {
   "cell_type": "code",
   "execution_count": 5,
   "metadata": {},
   "outputs": [],
   "source": [
    "#map.azim_profile_fit(plotflag=False)"
   ]
  },
  {
   "cell_type": "markdown",
   "metadata": {},
   "source": []
  },
  {
   "cell_type": "code",
   "execution_count": null,
   "metadata": {},
   "outputs": [],
   "source": [
    "from Mapping import BatchAzimProfileExtraction\n",
    "path='/home-local/ratel-ra/Bureau/Lien_vers_NCO/Manips/DATA_SAXS/hc5495_id02_ESRF/LPCNO/LPCNO_data-20231201-165545/'\n",
    "file_filter='*_waxs*_raw.h5'\n",
    "\n",
    "cif='/home-local/ratel-ra/Documents/CIF_database/Co_P63mmc.cif'\n",
    "reflections=[[1,0,0],[0,0,2],[1,0,1]]\n",
    "\n",
    "batch=BatchAzimProfileExtraction(path,cif,reflections,file_filter,plotflag=False)\n",
    "# keep only refinements for which R²>85%\n",
    "df=batch.run(plot=False)"
   ]
  }
 ],
 "metadata": {
  "kernelspec": {
   "display_name": "py311",
   "language": "python",
   "name": "python3"
  },
  "language_info": {
   "codemirror_mode": {
    "name": "ipython",
    "version": 3
   },
   "file_extension": ".py",
   "mimetype": "text/x-python",
   "name": "python",
   "nbconvert_exporter": "python",
   "pygments_lexer": "ipython3",
   "version": "3.11.9"
  }
 },
 "nbformat": 4,
 "nbformat_minor": 2
}
